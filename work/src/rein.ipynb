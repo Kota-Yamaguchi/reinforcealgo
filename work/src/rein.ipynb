{
 "metadata": {
  "language_info": {
   "codemirror_mode": {
    "name": "ipython",
    "version": 3
   },
   "file_extension": ".py",
   "mimetype": "text/x-python",
   "name": "python",
   "nbconvert_exporter": "python",
   "pygments_lexer": "ipython3",
   "version": "3.9.4"
  },
  "orig_nbformat": 2,
  "kernelspec": {
   "name": "python394jvsc74a57bd098b0a9b7b4eaaa670588a142fd0a9b87eaafe866f1db4228be72b4211d12040f",
   "display_name": "Python 3.9.4 64-bit ('base': conda)"
  }
 },
 "nbformat": 4,
 "nbformat_minor": 2,
 "cells": [
  {
   "source": [],
   "cell_type": "markdown",
   "metadata": {}
  },
  {
   "cell_type": "code",
   "execution_count": 1,
   "metadata": {},
   "outputs": [],
   "source": [
    "from Agent import Agent\n",
    "from environment import Environment\n",
    "from status import Status, Action"
   ]
  },
  {
   "cell_type": "code",
   "execution_count": null,
   "metadata": {},
   "outputs": [],
   "source": []
  },
  {
   "source": [
    "def main():\n",
    "    grid = [\n",
    "        [0, 0, 0, 1],\n",
    "        [0, 9, 0, -1],\n",
    "        [0, 0, 0, 0]\n",
    "    ]\n",
    "    status : Status = Status()\n",
    "    agent :Agent = Agent(status)\n",
    "    env : Environment = Environment(grid, 0.8)\n",
    "\n",
    "    agent.start_by_goal(env)\n",
    "\n",
    "main()\n",
    "\n",
    "\n",
    "\n",
    "        \n",
    "    \n"
   ],
   "cell_type": "code",
   "metadata": {},
   "execution_count": 2,
   "outputs": [
    {
     "output_type": "stream",
     "name": "stdout",
     "text": [
      "agent select action : Action.LEFT\nFalse\n[0.09999999999999998, 0.09999999999999998, 0, 0.8]\nis goal ?\n0\nyour position :0,0 False\nagent select action : Action.RIGHT\nFalse\n[0.09999999999999998, 0.09999999999999998, 0.8, 0]\nyour position :0,1 False\nagent select action : Action.LEFT\nFalse\n[0.09999999999999998, 0.09999999999999998, 0, 0.8]\nyour position :0,0 False\nagent select action : Action.UP\nFalse\n[0.8, 0, 0.09999999999999998, 0.09999999999999998]\nyour position :0,-1 False\nagent select action : Action.RIGHT\nFalse\n[0.09999999999999998, 0.09999999999999998, 0.8, 0]\nis goal ?\n1\nreach goal\nyour position :1,-1 True\nComplete\n"
     ]
    }
   ]
  },
  {
   "cell_type": "code",
   "execution_count": 4,
   "metadata": {},
   "outputs": [
    {
     "output_type": "error",
     "ename": "SyntaxError",
     "evalue": "invalid syntax (<ipython-input-4-fc3d976c7b00>, line 6)",
     "traceback": [
      "\u001b[0;36m  File \u001b[0;32m\"<ipython-input-4-fc3d976c7b00>\"\u001b[0;36m, line \u001b[0;32m6\u001b[0m\n\u001b[0;31m    if ds\u001b[0m\n\u001b[0m         ^\u001b[0m\n\u001b[0;31mSyntaxError\u001b[0m\u001b[0;31m:\u001b[0m invalid syntax\n"
     ]
    }
   ],
   "source": [
    "\n",
    "\n",
    "\n"
   ]
  },
  {
   "cell_type": "code",
   "execution_count": 11,
   "metadata": {},
   "outputs": [
    {
     "output_type": "stream",
     "name": "stdout",
     "text": [
      "[[1, 2, 4], [1, 3, 4], [1, 3, 4]]\nmaze row :3, maze column : 3\n"
     ]
    }
   ],
   "source": [
    "\n",
    "\n",
    "\n"
   ]
  },
  {
   "cell_type": "code",
   "execution_count": null,
   "metadata": {},
   "outputs": [],
   "source": []
  }
 ]
}